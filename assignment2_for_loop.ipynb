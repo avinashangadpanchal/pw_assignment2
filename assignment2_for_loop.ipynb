{
 "cells": [
  {
   "cell_type": "markdown",
   "metadata": {},
   "source": [
    "Basic"
   ]
  },
  {
   "cell_type": "markdown",
   "metadata": {},
   "source": [
    "1.Write a python programme to print the numbers from 1 to 10 using a for loop."
   ]
  },
  {
   "cell_type": "code",
   "execution_count": 2,
   "metadata": {},
   "outputs": [
    {
     "name": "stdout",
     "output_type": "stream",
     "text": [
      "1\n",
      "2\n",
      "3\n",
      "4\n",
      "5\n",
      "6\n",
      "7\n",
      "8\n",
      "9\n",
      "10\n"
     ]
    }
   ],
   "source": [
    "for i in range(1,11):\n",
    "    print(i)"
   ]
  },
  {
   "cell_type": "code",
   "execution_count": 3,
   "metadata": {},
   "outputs": [],
   "source": [
    "#2.create a programme that calculates the sum of all numbers in a list using a for loop."
   ]
  },
  {
   "cell_type": "code",
   "execution_count": 4,
   "metadata": {},
   "outputs": [
    {
     "name": "stdout",
     "output_type": "stream",
     "text": [
      "The sum of all numbers in the list is: 55\n"
     ]
    }
   ],
   "source": [
    "numbers = [1, 2, 3, 4, 5, 6, 7, 8, 9, 10]\n",
    "\n",
    "total_sum = 0\n",
    "\n",
    "# Iterate over each number in the list\n",
    "for number in numbers:\n",
    "    total_sum += number  # Add the number to the total sum\n",
    "\n",
    "# Print the result\n",
    "print(\"The sum of all numbers in the list is:\", total_sum)"
   ]
  },
  {
   "cell_type": "code",
   "execution_count": 5,
   "metadata": {},
   "outputs": [],
   "source": [
    "#3.write a program to print the characters of a string in reverse order using a for loop."
   ]
  },
  {
   "cell_type": "code",
   "execution_count": 11,
   "metadata": {},
   "outputs": [
    {
     "name": "stdout",
     "output_type": "stream",
     "text": [
      "hsaniva"
     ]
    }
   ],
   "source": [
    "string1=\"avinash\"\n",
    "\n",
    "for i in range(len(string1)-1,-1,-1):\n",
    "    print(string1[i], end=\"\")"
   ]
  },
  {
   "cell_type": "code",
   "execution_count": 12,
   "metadata": {},
   "outputs": [],
   "source": [
    "#4.Devlop a program that finds the factorial of a given number using a for loop"
   ]
  },
  {
   "cell_type": "code",
   "execution_count": 2,
   "metadata": {},
   "outputs": [
    {
     "name": "stdout",
     "output_type": "stream",
     "text": [
      "The factorial of 5 is: 120\n"
     ]
    }
   ],
   "source": [
    "def factorial(n):\n",
    "    # Initialize the result to 1 (factorial of 0 or 1 is 1)\n",
    "    result = 1\n",
    "    \n",
    "    # Calculate factorial using a for loop\n",
    "    for i in range(1, n + 1):\n",
    "        result *= i\n",
    "    \n",
    "    return result\n",
    "\n",
    "# Input from the user\n",
    "number = int(input(\"Enter a number to calculate its factorial: \"))\n",
    "\n",
    "# Validate input\n",
    "if number < 0:\n",
    "    print(\"Factorial is not defined for negative numbers.\")\n",
    "else:\n",
    "    # Calculate and print the factorial\n",
    "    print(f\"The factorial of {number} is: {factorial(number)}\")"
   ]
  },
  {
   "cell_type": "code",
   "execution_count": 4,
   "metadata": {},
   "outputs": [],
   "source": [
    "#5.create a program to print the multiplication table of a given number using for loop."
   ]
  },
  {
   "cell_type": "code",
   "execution_count": 6,
   "metadata": {},
   "outputs": [
    {
     "name": "stdout",
     "output_type": "stream",
     "text": [
      "5 x 1 = 5\n",
      "5 x 2 = 10\n",
      "5 x 3 = 15\n",
      "5 x 4 = 20\n",
      "5 x 5 = 25\n",
      "5 x 6 = 30\n",
      "5 x 7 = 35\n",
      "5 x 8 = 40\n",
      "5 x 9 = 45\n",
      "5 x 10 = 50\n"
     ]
    }
   ],
   "source": [
    "# Function to print the multiplication table of a given number\n",
    "def print_multiplication_table(number):\n",
    "    # Print the multiplication table for numbers 1 through 10\n",
    "    for i in range(1, 11):\n",
    "        print(f\"{number} x {i} = {number * i}\")\n",
    "\n",
    "# Input from the user\n",
    "try:\n",
    "    number = int(input(\"Enter a number to print its multiplication table: \"))\n",
    "    print_multiplication_table(number)\n",
    "except ValueError:\n",
    "    print(\"Please enter a valid integer.\")"
   ]
  },
  {
   "cell_type": "code",
   "execution_count": null,
   "metadata": {},
   "outputs": [],
   "source": [
    "#6.write a program that counts number of even and odd numbers in a list using a for loop."
   ]
  },
  {
   "cell_type": "code",
   "execution_count": 7,
   "metadata": {},
   "outputs": [
    {
     "name": "stdout",
     "output_type": "stream",
     "text": [
      "Number of even numbers: 5\n",
      "Number of odd numbers: 5\n"
     ]
    }
   ],
   "source": [
    "# Defining a list of numbers\n",
    "numbers = [10, 15, 22, 37, 44, 55, 62, 73, 84, 91]\n",
    "\n",
    "# Initialising counters for even and odd numbers\n",
    "even_count = 0\n",
    "odd_count = 0\n",
    "\n",
    "# Iterate over each number in the list\n",
    "for number in numbers:\n",
    "    if number % 2 == 0:\n",
    "        even_count += 1  # Increment even count if the number is even\n",
    "    else:\n",
    "        odd_count += 1   # Increment odd count if the number is odd\n",
    "\n",
    "# Print the results\n",
    "print(f\"Number of even numbers: {even_count}\")\n",
    "print(f\"Number of odd numbers: {odd_count}\")"
   ]
  },
  {
   "cell_type": "code",
   "execution_count": 8,
   "metadata": {},
   "outputs": [],
   "source": [
    "#7. Devlop a program that prints the squares of numbers from 1 to 5 using for loop."
   ]
  },
  {
   "cell_type": "code",
   "execution_count": 9,
   "metadata": {},
   "outputs": [
    {
     "name": "stdout",
     "output_type": "stream",
     "text": [
      "The square of 1 is 1\n",
      "The square of 2 is 4\n",
      "The square of 3 is 9\n",
      "The square of 4 is 16\n",
      "The square of 5 is 25\n"
     ]
    }
   ],
   "source": [
    "for number in range(1, 6):\n",
    "    square = number ** 2\n",
    "    print(f\"The square of {number} is {square}\")"
   ]
  },
  {
   "cell_type": "code",
   "execution_count": null,
   "metadata": {},
   "outputs": [],
   "source": [
    "#8. create a program to find lemgth of a string without using a len function "
   ]
  },
  {
   "cell_type": "code",
   "execution_count": 13,
   "metadata": {},
   "outputs": [
    {
     "name": "stdout",
     "output_type": "stream",
     "text": [
      "The length of the string is: 12\n"
     ]
    }
   ],
   "source": [
    "# Define a string\n",
    "input_string = \"Hello World!\"\n",
    "\n",
    "# Initialize a variable to count the length\n",
    "length = 0\n",
    "\n",
    "# Iterate through each character in the string\n",
    "for char in input_string:\n",
    "    length += 1\n",
    "\n",
    "# Print the length of the string\n",
    "print(f\"The length of the string is: {length}\")"
   ]
  },
  {
   "cell_type": "code",
   "execution_count": 10,
   "metadata": {},
   "outputs": [],
   "source": [
    "#9.write a program that calculates average of a list of numbers using a for loop"
   ]
  },
  {
   "cell_type": "code",
   "execution_count": 11,
   "metadata": {},
   "outputs": [
    {
     "name": "stdout",
     "output_type": "stream",
     "text": [
      "The average of the list is: 30.0\n"
     ]
    }
   ],
   "source": [
    "# Define a list of numbers\n",
    "numbers = [10, 20, 30, 40, 50]\n",
    "\n",
    "# Initialize a variable to store the sum of the numbers\n",
    "total_sum = 0\n",
    "\n",
    "# Calculate the sum of the numbers using a for loop\n",
    "for number in numbers:\n",
    "    total_sum += number\n",
    "\n",
    "# Calculate the average\n",
    "average = total_sum / len(numbers) if numbers else 0\n",
    "\n",
    "# Print the average\n",
    "print(f\"The average of the list is: {average}\")"
   ]
  },
  {
   "cell_type": "code",
   "execution_count": null,
   "metadata": {},
   "outputs": [],
   "source": [
    "#10.Devlop a program that prints the first `n`fibonacci numbers using a for loop"
   ]
  },
  {
   "cell_type": "code",
   "execution_count": 15,
   "metadata": {},
   "outputs": [
    {
     "name": "stdout",
     "output_type": "stream",
     "text": [
      "0 1 1 2 3 5 8 13 21 34 \n"
     ]
    }
   ],
   "source": [
    "# Function to print the first n Fibonacci numbers\n",
    "def print_fibonacci(n):\n",
    "    # Initialize the first two Fibonacci numbers\n",
    "    a, b = 0, 1\n",
    "    \n",
    "    # Print the first n Fibonacci numbers\n",
    "    for _ in range(n):\n",
    "        print(a, end=' ')\n",
    "        a, b = b, a + b\n",
    "    print()  # for a newline at the end\n",
    "\n",
    "# Input from the user\n",
    "try:\n",
    "    n = int(input(\"Enter the number of Fibonacci numbers to print: \"))\n",
    "    if n <= 0:\n",
    "        print(\"Please enter a positive integer.\")\n",
    "    else:\n",
    "        print_fibonacci(n)\n",
    "except ValueError:\n",
    "    print(\"Please enter a valid integer.\")"
   ]
  },
  {
   "cell_type": "markdown",
   "metadata": {},
   "source": [
    "Intermediate Level:"
   ]
  },
  {
   "cell_type": "code",
   "execution_count": 16,
   "metadata": {},
   "outputs": [],
   "source": [
    "#11. write a program to check if a given list contains any duplicates using a for loop."
   ]
  },
  {
   "cell_type": "code",
   "execution_count": 17,
   "metadata": {},
   "outputs": [
    {
     "name": "stdout",
     "output_type": "stream",
     "text": [
      "The list contains duplicates.\n"
     ]
    }
   ],
   "source": [
    "# Function to check if a list contains duplicates\n",
    "def has_duplicates(lst):\n",
    "    # Initialize an empty set to track seen elements\n",
    "    seen = set()\n",
    "    \n",
    "    # Iterate over each element in the list\n",
    "    for item in lst:\n",
    "        if item in seen:\n",
    "            return True  # Duplicate found\n",
    "        seen.add(item)  # Add the item to the set\n",
    "    return False  # No duplicates found\n",
    "\n",
    "# Define a list\n",
    "my_list = [1, 2, 3, 4, 5, 6, 1]  # Example list with a duplicate\n",
    "\n",
    "# Check for duplicates\n",
    "if has_duplicates(my_list):\n",
    "    print(\"The list contains duplicates.\")\n",
    "else:\n",
    "    print(\"The list does not contain duplicates.\")"
   ]
  },
  {
   "cell_type": "code",
   "execution_count": null,
   "metadata": {},
   "outputs": [],
   "source": [
    "#12.Create a program that prints the prime numbers in a given range using a `for` loop"
   ]
  },
  {
   "cell_type": "code",
   "execution_count": 18,
   "metadata": {},
   "outputs": [
    {
     "name": "stdout",
     "output_type": "stream",
     "text": [
      "Prime numbers between 5 and 25 are:\n",
      "5 7 11 13 17 19 23 \n"
     ]
    }
   ],
   "source": [
    "# Function to check if a number is prime\n",
    "def is_prime(num):\n",
    "    if num <= 1:\n",
    "        return False\n",
    "    if num <= 3:\n",
    "        return True\n",
    "    if num % 2 == 0 or num % 3 == 0:\n",
    "        return False\n",
    "    i = 5\n",
    "    while i * i <= num:\n",
    "        if num % i == 0 or num % (i + 2) == 0:\n",
    "            return False\n",
    "        i += 6\n",
    "    return True\n",
    "\n",
    "# Function to print prime numbers in a given range\n",
    "def print_primes_in_range(start, end):\n",
    "    for num in range(start, end + 1):\n",
    "        if is_prime(num):\n",
    "            print(num, end=' ')\n",
    "    print()  # for a newline at the end\n",
    "\n",
    "# Input from the user\n",
    "try:\n",
    "    start = int(input(\"Enter the start of the range: \"))\n",
    "    end = int(input(\"Enter the end of the range: \"))\n",
    "    \n",
    "    if start > end:\n",
    "        print(\"Start of the range must be less than or equal to the end.\")\n",
    "    else:\n",
    "        print(f\"Prime numbers between {start} and {end} are:\")\n",
    "        print_primes_in_range(start, end)\n",
    "except ValueError:\n",
    "    print(\"Please enter valid integers.\")\n"
   ]
  },
  {
   "cell_type": "code",
   "execution_count": null,
   "metadata": {},
   "outputs": [],
   "source": [
    "#13. Develop a program that counts the number of vowels in a string using a `for` loop"
   ]
  },
  {
   "cell_type": "code",
   "execution_count": 19,
   "metadata": {},
   "outputs": [
    {
     "name": "stdout",
     "output_type": "stream",
     "text": [
      "The number of vowels in the string is: 3\n"
     ]
    }
   ],
   "source": [
    "# Function to count the number of vowels in a string\n",
    "def count_vowels(s):\n",
    "    # Define a set of vowels (both uppercase and lowercase)\n",
    "    vowels = 'aeiouAEIOU'\n",
    "    \n",
    "    # Initialize a counter for vowels\n",
    "    vowel_count = 0\n",
    "    \n",
    "    # Iterate over each character in the string\n",
    "    for char in s:\n",
    "        if char in vowels:\n",
    "            vowel_count += 1  # Increment the counter if the character is a vowel\n",
    "            \n",
    "    return vowel_count\n",
    "\n",
    "# Input from the user\n",
    "input_string = input(\"Enter a string to count the vowels: \")\n",
    "\n",
    "# Count the vowels in the input string\n",
    "vowel_count = count_vowels(input_string)\n",
    "\n",
    "# Print the result\n",
    "print(f\"The number of vowels in the string is: {vowel_count}\")\n"
   ]
  },
  {
   "cell_type": "code",
   "execution_count": null,
   "metadata": {},
   "outputs": [],
   "source": [
    "#14. Write a program to find the maximum element in a 2D list using a nested `for` loop."
   ]
  },
  {
   "cell_type": "code",
   "execution_count": 20,
   "metadata": {},
   "outputs": [
    {
     "name": "stdout",
     "output_type": "stream",
     "text": [
      "The maximum element in the 2D list is: 9\n"
     ]
    }
   ],
   "source": [
    "# Function to find the maximum element in a 2D list\n",
    "def find_max_in_2d_list(matrix):\n",
    "    # Initialize the maximum value with the first element of the matrix\n",
    "    max_value = matrix[0][0]\n",
    "    \n",
    "    # Iterate through each row in the 2D list\n",
    "    for row in matrix:\n",
    "        # Iterate through each element in the row\n",
    "        for element in row:\n",
    "            # Update max_value if the current element is greater\n",
    "            if element > max_value:\n",
    "                max_value = element\n",
    "    \n",
    "    return max_value\n",
    "\n",
    "# Define a 2D list\n",
    "matrix = [\n",
    "    [3, 5, 9],\n",
    "    [1, 6, 7],\n",
    "    [4, 8, 2]\n",
    "]\n",
    "\n",
    "# Find the maximum element in the 2D list\n",
    "max_element = find_max_in_2d_list(matrix)\n",
    "\n",
    "# Print the result\n",
    "print(f\"The maximum element in the 2D list is: {max_element}\")\n"
   ]
  },
  {
   "cell_type": "code",
   "execution_count": null,
   "metadata": {},
   "outputs": [],
   "source": [
    "#15. Create a program that removes all occurrences of a specific element from a list using a `for` loop."
   ]
  },
  {
   "cell_type": "code",
   "execution_count": 22,
   "metadata": {},
   "outputs": [
    {
     "name": "stdout",
     "output_type": "stream",
     "text": [
      "Original list: [1, 2, 3, 2, 4, 2, 5]\n",
      "Updated list after removing 4: [1, 2, 3, 2, 2, 5]\n"
     ]
    }
   ],
   "source": [
    "# Function to remove all occurrences of a specific element from a list\n",
    "def remove_occurrences(lst, value_to_remove):\n",
    "    # Create a new list to store elements that are not removed\n",
    "    result = []\n",
    "    \n",
    "    # Iterate over each element in the original list\n",
    "    for item in lst:\n",
    "        # If the item is not the one to be removed, add it to the result list\n",
    "        if item != value_to_remove:\n",
    "            result.append(item)\n",
    "    \n",
    "    return result\n",
    "\n",
    "# Define a list and the element to remove\n",
    "original_list = [1, 2, 3, 2, 4, 2, 5]\n",
    "element_to_remove = 4\n",
    "\n",
    "# Remove occurrences of the specified element\n",
    "updated_list = remove_occurrences(original_list, element_to_remove)\n",
    "\n",
    "# Print the result\n",
    "print(f\"Original list: {original_list}\")\n",
    "print(f\"Updated list after removing {element_to_remove}: {updated_list}\")\n"
   ]
  },
  {
   "cell_type": "code",
   "execution_count": 23,
   "metadata": {},
   "outputs": [],
   "source": [
    "#16. Develop a program that generates a multiplication table for numbers from 1 to 5 using a nested `for` loop"
   ]
  },
  {
   "cell_type": "code",
   "execution_count": 28,
   "metadata": {},
   "outputs": [
    {
     "name": "stdout",
     "output_type": "stream",
     "text": [
      "   1    2    3    4    5 \n",
      "   2    4    6    8   10 \n",
      "   3    6    9   12   15 \n",
      "   4    8   12   16   20 \n",
      "   5   10   15   20   25 \n",
      "   6   12   18   24   30 \n",
      "   7   14   21   28   35 \n",
      "   8   16   24   32   40 \n",
      "   9   18   27   36   45 \n",
      "  10   20   30   40   50 \n"
     ]
    }
   ],
   "source": [
    "# Function to print a multiplication table for numbers from 1 to 5\n",
    "def print_multiplication_table():\n",
    "    # Iterate through each number from 1 to 5\n",
    "    for i in range(1, 11):\n",
    "        # Iterate through each multiplier from 1 to 5\n",
    "        for j in range(1, 6):\n",
    "            # Print the product of i and j with formatting\n",
    "            print(f\"{i * j:4}\", end=' ')\n",
    "        # Print a newline after each row\n",
    "        print()\n",
    "\n",
    "# Call the function to print the multiplication table\n",
    "print_multiplication_table()\n"
   ]
  },
  {
   "cell_type": "code",
   "execution_count": null,
   "metadata": {},
   "outputs": [],
   "source": [
    "#17. Write a program that converts a list of Fahrenheit temperatures to Celsius using a `for` loop."
   ]
  },
  {
   "cell_type": "code",
   "execution_count": 29,
   "metadata": {},
   "outputs": [
    {
     "name": "stdout",
     "output_type": "stream",
     "text": [
      "Fahrenheit temperatures: [32, 50, 77, 100, 212]\n",
      "Celsius temperatures: [0.0, 10.0, 25.0, 37.77777777777778, 100.0]\n"
     ]
    }
   ],
   "source": [
    "# Function to convert Fahrenheit to Celsius\n",
    "def fahrenheit_to_celsius(fahrenheit):\n",
    "    return (fahrenheit - 32) * 5 / 9\n",
    "\n",
    "# Define a list of Fahrenheit temperatures\n",
    "fahrenheit_temperatures = [32, 50, 77, 100, 212]\n",
    "\n",
    "# Convert the Fahrenheit temperatures to Celsius\n",
    "celsius_temperatures = []\n",
    "\n",
    "# Use a for loop to convert each temperature\n",
    "for temp in fahrenheit_temperatures:\n",
    "    celsius_temp = fahrenheit_to_celsius(temp)\n",
    "    celsius_temperatures.append(celsius_temp)\n",
    "\n",
    "# Print the results\n",
    "print(\"Fahrenheit temperatures:\", fahrenheit_temperatures)\n",
    "print(\"Celsius temperatures:\", celsius_temperatures)\n"
   ]
  },
  {
   "cell_type": "code",
   "execution_count": null,
   "metadata": {},
   "outputs": [],
   "source": [
    "#18. Create a program to print the common elements from two lists using a `for` loop."
   ]
  },
  {
   "cell_type": "code",
   "execution_count": 30,
   "metadata": {},
   "outputs": [
    {
     "name": "stdout",
     "output_type": "stream",
     "text": [
      "Common elements: [4, 5, 6]\n"
     ]
    }
   ],
   "source": [
    "# Function to find common elements between two lists\n",
    "def find_common_elements(list1, list2):\n",
    "    # Create an empty list to store common elements\n",
    "    common_elements = []\n",
    "    \n",
    "    # Iterate through each element in the first list\n",
    "    for element in list1:\n",
    "        # Check if the element is in the second list and not already in common_elements\n",
    "        if element in list2 and element not in common_elements:\n",
    "            common_elements.append(element)\n",
    "    \n",
    "    return common_elements\n",
    "\n",
    "# Define two lists\n",
    "list1 = [1, 2, 3, 4, 5, 6]\n",
    "list2 = [4, 5, 6, 7, 8, 9]\n",
    "\n",
    "# Find common elements between the two lists\n",
    "common_elements = find_common_elements(list1, list2)\n",
    "\n",
    "# Print the result\n",
    "print(\"Common elements:\", common_elements)\n"
   ]
  },
  {
   "cell_type": "code",
   "execution_count": null,
   "metadata": {},
   "outputs": [],
   "source": [
    "#19. Develop a program that prints the pattern of right-angled triangles using a `for` loop. Use ‘*’ to draw the pattern.\n"
   ]
  },
  {
   "cell_type": "code",
   "execution_count": 31,
   "metadata": {},
   "outputs": [
    {
     "name": "stdout",
     "output_type": "stream",
     "text": [
      "Right-angled triangle pattern:\n",
      "*\n",
      "**\n",
      "***\n",
      "****\n",
      "*****\n",
      "******\n",
      "*******\n",
      "********\n",
      "*********\n"
     ]
    }
   ],
   "source": [
    "# Function to print a right-angled triangle pattern\n",
    "def print_right_angled_triangle(rows):\n",
    "    # Iterate through each row\n",
    "    for i in range(1, rows + 1):\n",
    "        # Print '*' for each column in the current row\n",
    "        for j in range(i):\n",
    "            print('*', end='')\n",
    "        # Move to the next line after printing all columns in the current row\n",
    "        print()\n",
    "\n",
    "# Input from the user\n",
    "try:\n",
    "    rows = int(input(\"Enter the number of rows for the right-angled triangle: \"))\n",
    "    if rows <= 0:\n",
    "        print(\"Please enter a positive integer.\")\n",
    "    else:\n",
    "        print(\"Right-angled triangle pattern:\")\n",
    "        print_right_angled_triangle(rows)\n",
    "except ValueError:\n",
    "    print(\"Please enter a valid integer.\")\n"
   ]
  },
  {
   "cell_type": "code",
   "execution_count": null,
   "metadata": {},
   "outputs": [],
   "source": [
    "#20. Write a program to find the greatest common divisor (GCD) of two numbers using a `for` loop."
   ]
  },
  {
   "cell_type": "code",
   "execution_count": 34,
   "metadata": {},
   "outputs": [
    {
     "name": "stdout",
     "output_type": "stream",
     "text": [
      "The Greatest Common Divisor of 93 and 8 is: 1\n"
     ]
    }
   ],
   "source": [
    "# Function to find the GCD of two numbers using a for loop\n",
    "def find_gcd(a, b):\n",
    "    # Ensure that we are looking for the GCD of positive integers\n",
    "    a = abs(a)\n",
    "    b = abs(b)\n",
    "\n",
    "    # Initialize the GCD\n",
    "    gcd = 1\n",
    "    \n",
    "    # Determine the smaller of the two numbers\n",
    "    min_num = min(a, b)\n",
    "    \n",
    "    # Iterate through possible divisors from 1 to min_num\n",
    "    for i in range(1, min_num + 1):\n",
    "        if a % i == 0 and b % i == 0:\n",
    "            gcd = i  # Update the GCD if i is a common divisor\n",
    "\n",
    "    return gcd\n",
    "\n",
    "# Input from the user\n",
    "try:\n",
    "    num1 = int(input(\"Enter the first number: \"))\n",
    "    num2 = int(input(\"Enter the second number: \"))\n",
    "    \n",
    "    if num1 <= 0 or num2 <= 0:\n",
    "        print(\"Please enter positive integers.\")\n",
    "    else:\n",
    "        gcd = find_gcd(num1, num2)\n",
    "        print(f\"The Greatest Common Divisor of {num1} and {num2} is: {gcd}\")\n",
    "except ValueError:\n",
    "    print(\"Please enter valid integers.\")\n"
   ]
  },
  {
   "cell_type": "markdown",
   "metadata": {},
   "source": []
  },
  {
   "cell_type": "markdown",
   "metadata": {},
   "source": [
    "Advance Level:"
   ]
  },
  {
   "cell_type": "code",
   "execution_count": null,
   "metadata": {},
   "outputs": [],
   "source": [
    "#21. Create a program that calculates the sum of the digits of numbers in a list using a list comprehension"
   ]
  },
  {
   "cell_type": "code",
   "execution_count": 35,
   "metadata": {},
   "outputs": [
    {
     "name": "stdout",
     "output_type": "stream",
     "text": [
      "Numbers: [123, 456, 789, 0, -234]\n",
      "Sum of digits for each number: [6, 15, 24, 0, 9]\n"
     ]
    }
   ],
   "source": [
    "# Function to calculate the sum of digits of a number\n",
    "def sum_of_digits(number):\n",
    "    return sum(int(digit) for digit in str(abs(number)))\n",
    "\n",
    "# Define a list of numbers\n",
    "numbers = [123, 456, 789, 0, -234]\n",
    "\n",
    "# Calculate the sum of digits for each number using a list comprehension\n",
    "sums_of_digits = [sum_of_digits(num) for num in numbers]\n",
    "\n",
    "# Print the results\n",
    "print(\"Numbers:\", numbers)\n",
    "print(\"Sum of digits for each number:\", sums_of_digits)\n"
   ]
  },
  {
   "cell_type": "code",
   "execution_count": 36,
   "metadata": {},
   "outputs": [],
   "source": [
    "#22. Write a program to find the prime factors of a given number using a `for` loop and list comprehension."
   ]
  },
  {
   "cell_type": "code",
   "execution_count": 39,
   "metadata": {},
   "outputs": [
    {
     "name": "stdout",
     "output_type": "stream",
     "text": [
      "Prime factors of 250 are: [2, 5]\n"
     ]
    }
   ],
   "source": [
    "# Function to determine if a number is prime\n",
    "def is_prime(num):\n",
    "    if num <= 1:\n",
    "        return False\n",
    "    if num <= 3:\n",
    "        return True\n",
    "    if num % 2 == 0 or num % 3 == 0:\n",
    "        return False\n",
    "    i = 5\n",
    "    while i * i <= num:\n",
    "        if num % i == 0 or num % (i + 2) == 0:\n",
    "            return False\n",
    "        i += 6\n",
    "    return True\n",
    "\n",
    "# Function to find all prime factors of a given number\n",
    "def prime_factors(n):\n",
    "    factors = [i for i in range(2, n + 1) if n % i == 0 and is_prime(i)]\n",
    "    return factors\n",
    "\n",
    "# Input from the user\n",
    "try:\n",
    "    number = int(input(\"Enter a number to find its prime factors: \"))\n",
    "    if number <= 1:\n",
    "        print(\"Please enter a number greater than 1.\")\n",
    "    else:\n",
    "        factors = prime_factors(number)\n",
    "        print(f\"Prime factors of {number} are: {factors}\")\n",
    "except ValueError:\n",
    "    print(\"Please enter a valid integer.\")\n"
   ]
  },
  {
   "cell_type": "code",
   "execution_count": null,
   "metadata": {},
   "outputs": [],
   "source": [
    "#23. Develop a program that extracts unique elements from a list and stores them in a new list using a list comprehension"
   ]
  },
  {
   "cell_type": "code",
   "execution_count": 40,
   "metadata": {},
   "outputs": [
    {
     "name": "stdout",
     "output_type": "stream",
     "text": [
      "Original list: [1, 2, 3, 4, 2, 5, 1, 6, 7, 4, 8, 5]\n",
      "Unique elements: [1, 2, 3, 4, 5, 6, 7, 8]\n"
     ]
    }
   ],
   "source": [
    "# Function to extract unique elements from a list\n",
    "def extract_unique_elements(lst):\n",
    "    # Use a set to track seen elements and a list comprehension to filter unique ones\n",
    "    seen = set()\n",
    "    unique_elements = [x for x in lst if not (x in seen or seen.add(x))]\n",
    "    return unique_elements\n",
    "\n",
    "# Define a list with some duplicate elements\n",
    "original_list = [1, 2, 3, 4, 2, 5, 1, 6, 7, 4, 8, 5]\n",
    "\n",
    "# Extract unique elements using the function\n",
    "unique_list = extract_unique_elements(original_list)\n",
    "\n",
    "# Print the results\n",
    "print(\"Original list:\", original_list)\n",
    "print(\"Unique elements:\", unique_list)"
   ]
  },
  {
   "cell_type": "code",
   "execution_count": 41,
   "metadata": {},
   "outputs": [],
   "source": [
    "#24. Create a program that generates a list of all palindromic numbers up to a specified limit using a list comprehension."
   ]
  },
  {
   "cell_type": "code",
   "execution_count": 43,
   "metadata": {},
   "outputs": [
    {
     "name": "stdout",
     "output_type": "stream",
     "text": [
      "Palindromic numbers up to 121 are: [0, 1, 2, 3, 4, 5, 6, 7, 8, 9, 11, 22, 33, 44, 55, 66, 77, 88, 99, 101, 111, 121]\n"
     ]
    }
   ],
   "source": [
    "# Function to check if a number is palindromic\n",
    "def is_palindromic(num):\n",
    "    # Convert the number to a string\n",
    "    num_str = str(num)\n",
    "    # Check if the string is equal to its reverse\n",
    "    return num_str == num_str[::-1]\n",
    "\n",
    "# Generate a list of all palindromic numbers up to a specified limit using list comprehension\n",
    "def generate_palindromic_numbers(limit):\n",
    "    return [num for num in range(limit + 1) if is_palindromic(num)]\n",
    "\n",
    "# Input from the user\n",
    "try:\n",
    "    limit = int(input(\"Enter the limit for palindromic numbers: \"))\n",
    "    if limit < 0:\n",
    "        print(\"Please enter a non-negative integer.\")\n",
    "    else:\n",
    "        palindromic_numbers = generate_palindromic_numbers(limit)\n",
    "        print(f\"Palindromic numbers up to {limit} are: {palindromic_numbers}\")\n",
    "except ValueError:\n",
    "    print(\"Please enter a valid integer.\")"
   ]
  },
  {
   "cell_type": "code",
   "execution_count": 44,
   "metadata": {},
   "outputs": [],
   "source": [
    "#25. Write a program to flatten a nested list using list comprehension."
   ]
  },
  {
   "cell_type": "code",
   "execution_count": 45,
   "metadata": {},
   "outputs": [
    {
     "name": "stdout",
     "output_type": "stream",
     "text": [
      "Nested list: [[1, 2, 3], [4, 5], [6, 7, 8, 9], [10]]\n",
      "Flattened list: [1, 2, 3, 4, 5, 6, 7, 8, 9, 10]\n"
     ]
    }
   ],
   "source": [
    "# Function to flatten a nested list using list comprehension\n",
    "def flatten_nested_list(nested_list):\n",
    "    # Use list comprehension to iterate through each sub-list and each element within those sub-lists\n",
    "    return [item for sublist in nested_list for item in sublist]\n",
    "\n",
    "# Define a nested list\n",
    "nested_list = [\n",
    "    [1, 2, 3],\n",
    "    [4, 5],\n",
    "    [6, 7, 8, 9],\n",
    "    [10]\n",
    "]\n",
    "\n",
    "# Flatten the nested list\n",
    "flat_list = flatten_nested_list(nested_list)\n",
    "\n",
    "# Print the result\n",
    "print(\"Nested list:\", nested_list)\n",
    "print(\"Flattened list:\", flat_list)"
   ]
  },
  {
   "cell_type": "code",
   "execution_count": null,
   "metadata": {},
   "outputs": [],
   "source": [
    "#26. Develop a program that computes the sum of even and odd numbers in a list separately using list comprehension"
   ]
  },
  {
   "cell_type": "code",
   "execution_count": 47,
   "metadata": {},
   "outputs": [
    {
     "name": "stdout",
     "output_type": "stream",
     "text": [
      "List of numbers: [10, 21, 32, 43, 54, 65, 76, 87, 98, 109]\n",
      "Sum of even numbers: 270\n",
      "Sum of odd numbers: 325\n"
     ]
    }
   ],
   "source": [
    "numbers = [10, 21, 32, 43, 54, 65, 76, 87, 98, 109]\n",
    "\n",
    "sum_even = sum(num for num in numbers if num % 2 == 0)\n",
    "\n",
    "sum_odd = sum(num for num in numbers if num % 2 != 0)\n",
    "\n",
    "print(\"List of numbers:\", numbers)\n",
    "print(\"Sum of even numbers:\", sum_even)\n",
    "print(\"Sum of odd numbers:\", sum_odd)\n"
   ]
  },
  {
   "cell_type": "code",
   "execution_count": 48,
   "metadata": {},
   "outputs": [],
   "source": [
    "#27. Create a program that generates a list of squares of odd numbers between 1 and 10 using list comprehension."
   ]
  },
  {
   "cell_type": "code",
   "execution_count": 49,
   "metadata": {},
   "outputs": [
    {
     "name": "stdout",
     "output_type": "stream",
     "text": [
      "Squares of odd numbers between 1 and 10: [1, 9, 25, 49, 81]\n"
     ]
    }
   ],
   "source": [
    "# Generate a list of squares of odd numbers between 1 and 10 using list comprehension\n",
    "squares_of_odd_numbers = [x**2 for x in range(1, 11) if x % 2 != 0]\n",
    "\n",
    "# Print the result\n",
    "print(\"Squares of odd numbers between 1 and 10:\", squares_of_odd_numbers)"
   ]
  },
  {
   "cell_type": "code",
   "execution_count": 50,
   "metadata": {},
   "outputs": [],
   "source": [
    "#28. Write a program that combines two lists into a dictionary using list comprehension"
   ]
  },
  {
   "cell_type": "code",
   "execution_count": 51,
   "metadata": {},
   "outputs": [
    {
     "name": "stdout",
     "output_type": "stream",
     "text": [
      "Keys: ['a', 'b', 'c', 'd']\n",
      "Values: [1, 2, 3, 4]\n",
      "Combined dictionary: {'a': 1, 'b': 2, 'c': 3, 'd': 4}\n"
     ]
    }
   ],
   "source": [
    "keys = ['a', 'b', 'c', 'd']\n",
    "values = [1, 2, 3, 4]\n",
    "\n",
    "# Combine the two lists into a dictionary using dictionary comprehension\n",
    "combined_dict = {keys[i]: values[i] for i in range(len(keys))}\n",
    "\n",
    "# Print the result\n",
    "print(\"Keys:\", keys)\n",
    "print(\"Values:\", values)\n",
    "print(\"Combined dictionary:\", combined_dict)"
   ]
  },
  {
   "cell_type": "code",
   "execution_count": 52,
   "metadata": {},
   "outputs": [],
   "source": [
    "#29. Develop a program that extracts the vowels from a string and stores them in a list using list comprehension"
   ]
  },
  {
   "cell_type": "code",
   "execution_count": 53,
   "metadata": {},
   "outputs": [
    {
     "name": "stdout",
     "output_type": "stream",
     "text": [
      "Input string: Hello, World!\n",
      "Extracted vowels: ['e', 'o', 'o']\n"
     ]
    }
   ],
   "source": [
    "# Define a function to extract vowels from a string\n",
    "def extract_vowels(s):\n",
    "    # Define a set of vowels (both uppercase and lowercase)\n",
    "    vowels = 'aeiouAEIOU'\n",
    "    # Use list comprehension to extract vowels from the string\n",
    "    return [char for char in s if char in vowels]\n",
    "\n",
    "# Define a string\n",
    "input_string = \"Hello, World!\"\n",
    "\n",
    "# Extract vowels from the string\n",
    "vowel_list = extract_vowels(input_string)\n",
    "\n",
    "# Print the result\n",
    "print(\"Input string:\", input_string)\n",
    "print(\"Extracted vowels:\", vowel_list)"
   ]
  },
  {
   "cell_type": "code",
   "execution_count": 54,
   "metadata": {},
   "outputs": [],
   "source": [
    "#30. Create a program that removes all non-numeric characters from a list of strings using list comprehension"
   ]
  },
  {
   "cell_type": "code",
   "execution_count": 55,
   "metadata": {},
   "outputs": [
    {
     "name": "stdout",
     "output_type": "stream",
     "text": [
      "Original list of strings: ['abc123', '4d5e6', 'hello7', '89world', '!@#10']\n",
      "List after removing non-numeric characters: ['123', '456', '7', '89', '10']\n"
     ]
    }
   ],
   "source": [
    "# Function to remove non-numeric characters from a string\n",
    "def remove_non_numeric(s):\n",
    "    # Use list comprehension to filter out non-numeric characters\n",
    "    return ''.join([char for char in s if char.isdigit()])\n",
    "\n",
    "# Define a list of strings\n",
    "strings = [\"abc123\", \"4d5e6\", \"hello7\", \"89world\", \"!@#10\"]\n",
    "\n",
    "# Remove non-numeric characters from each string in the list\n",
    "cleaned_strings = [remove_non_numeric(s) for s in strings]\n",
    "\n",
    "# Print the result\n",
    "print(\"Original list of strings:\", strings)\n",
    "print(\"List after removing non-numeric characters:\", cleaned_strings)"
   ]
  },
  {
   "cell_type": "code",
   "execution_count": null,
   "metadata": {},
   "outputs": [],
   "source": []
  },
  {
   "cell_type": "markdown",
   "metadata": {},
   "source": [
    "Challenge Level:"
   ]
  },
  {
   "cell_type": "code",
   "execution_count": 56,
   "metadata": {},
   "outputs": [],
   "source": [
    "# 31.Write a program to generate a list of prime numbers using the Sieve of Eratosthenes algorithm and list comprehension.\n"
   ]
  },
  {
   "cell_type": "code",
   "execution_count": 57,
   "metadata": {},
   "outputs": [
    {
     "name": "stdout",
     "output_type": "stream",
     "text": [
      "Prime numbers up to 50: [2, 3, 5, 7, 11, 13, 17, 19, 23, 29, 31, 37, 41, 43, 47]\n"
     ]
    }
   ],
   "source": [
    "def sieve_of_eratosthenes(limit):\n",
    "    # Initialize a boolean list to track prime status of numbers\n",
    "    is_prime = [True] * (limit + 1)\n",
    "    is_prime[0] = is_prime[1] = False  # 0 and 1 are not prime numbers\n",
    "    \n",
    "    # Use the Sieve of Eratosthenes algorithm\n",
    "    for start in range(2, int(limit**0.5) + 1):\n",
    "        if is_prime[start]:\n",
    "            for multiple in range(start*start, limit + 1, start):\n",
    "                is_prime[multiple] = False\n",
    "    \n",
    "    # Generate the list of primes using list comprehension\n",
    "    primes = [num for num, prime in enumerate(is_prime) if prime]\n",
    "    \n",
    "    return primes\n",
    "\n",
    "# Define the limit up to which primes should be generated\n",
    "limit = 50\n",
    "\n",
    "# Generate the list of prime numbers\n",
    "prime_numbers = sieve_of_eratosthenes(limit)\n",
    "\n",
    "# Print the result\n",
    "print(f\"Prime numbers up to {limit}:\", prime_numbers)"
   ]
  },
  {
   "cell_type": "code",
   "execution_count": 58,
   "metadata": {},
   "outputs": [],
   "source": [
    "#32. Create a program that generates a list of all Pythagorean triplets up to a specified limit using list comprehension"
   ]
  },
  {
   "cell_type": "code",
   "execution_count": 59,
   "metadata": {},
   "outputs": [
    {
     "name": "stdout",
     "output_type": "stream",
     "text": [
      "Pythagorean triplets up to 30: [(3, 4, 5), (5, 12, 13), (6, 8, 10), (7, 24, 25), (8, 15, 17), (9, 12, 15), (10, 24, 26), (12, 16, 20), (15, 20, 25), (18, 24, 30), (20, 21, 29)]\n"
     ]
    }
   ],
   "source": [
    "# Function to generate all Pythagorean triplets up to a specified limit\n",
    "def generate_pythagorean_triplets(limit):\n",
    "    # List comprehension to find all Pythagorean triplets\n",
    "    return [\n",
    "        (a, b, c)\n",
    "        for a in range(1, limit + 1)\n",
    "        for b in range(a, limit + 1)  # Ensure b >= a to avoid duplicate pairs\n",
    "        for c in range(b, limit + 1)  # Ensure c >= b to avoid duplicate pairs\n",
    "        if a**2 + b**2 == c**2\n",
    "    ]\n",
    "\n",
    "# Define the limit up to which triplets should be generated\n",
    "limit = 30\n",
    "\n",
    "# Generate the list of Pythagorean triplets\n",
    "pythagorean_triplets = generate_pythagorean_triplets(limit)\n",
    "\n",
    "# Print the result\n",
    "print(f\"Pythagorean triplets up to {limit}:\", pythagorean_triplets)"
   ]
  },
  {
   "cell_type": "code",
   "execution_count": null,
   "metadata": {},
   "outputs": [],
   "source": [
    "#33. Develop a program that generates a list of all possible combinations of two lists using list comprehension."
   ]
  },
  {
   "cell_type": "code",
   "execution_count": 60,
   "metadata": {},
   "outputs": [
    {
     "name": "stdout",
     "output_type": "stream",
     "text": [
      "[(1, 'a'), (1, 'b'), (1, 'c'), (2, 'a'), (2, 'b'), (2, 'c'), (3, 'a'), (3, 'b'), (3, 'c')]\n"
     ]
    }
   ],
   "source": [
    "# Define the two lists\n",
    "list1 = [1, 2, 3]\n",
    "list2 = ['a', 'b', 'c']\n",
    "\n",
    "# Use list comprehension to generate all possible combinations\n",
    "combinations = [(x, y) for x in list1 for y in list2]\n",
    "\n",
    "# Print the result\n",
    "print(combinations)"
   ]
  },
  {
   "cell_type": "code",
   "execution_count": 61,
   "metadata": {},
   "outputs": [],
   "source": [
    "# 34. Write a program that calculates the mean, median, and mode of a list of numbers using list comprehension."
   ]
  },
  {
   "cell_type": "code",
   "execution_count": 62,
   "metadata": {},
   "outputs": [
    {
     "name": "stdout",
     "output_type": "stream",
     "text": [
      "List of numbers: [1, 2, 2, 3, 4, 4, 4, 5, 5, 6]\n",
      "Mean: 3.6\n",
      "Median: 4.0\n",
      "Mode: [4]\n"
     ]
    }
   ],
   "source": [
    "from collections import Counter\n",
    "\n",
    "def calculate_mean(numbers):\n",
    "    # Compute the mean using list comprehension to sum and divide by length\n",
    "    return sum(numbers) / len(numbers)\n",
    "\n",
    "def calculate_median(numbers):\n",
    "    # Sort the list to find the median\n",
    "    sorted_numbers = sorted(numbers)\n",
    "    n = len(sorted_numbers)\n",
    "    mid = n // 2\n",
    "    # Compute the median\n",
    "    if n % 2 == 0:\n",
    "        return (sorted_numbers[mid - 1] + sorted_numbers[mid]) / 2\n",
    "    else:\n",
    "        return sorted_numbers[mid]\n",
    "\n",
    "def calculate_mode(numbers):\n",
    "    # Use Counter to find frequency of each number\n",
    "    count = Counter(numbers)\n",
    "    max_frequency = max(count.values())\n",
    "    # List comprehension to find all modes with the maximum frequency\n",
    "    return [num for num, freq in count.items() if freq == max_frequency]\n",
    "\n",
    "# Define a list of numbers\n",
    "numbers = [1, 2, 2, 3, 4, 4, 4, 5, 5, 6]\n",
    "\n",
    "# Calculate mean, median, and mode\n",
    "mean = calculate_mean(numbers)\n",
    "median = calculate_median(numbers)\n",
    "mode = calculate_mode(numbers)\n",
    "\n",
    "# Print the results\n",
    "print(f\"List of numbers: {numbers}\")\n",
    "print(f\"Mean: {mean}\")\n",
    "print(f\"Median: {median}\")\n",
    "print(f\"Mode: {mode}\")"
   ]
  },
  {
   "cell_type": "code",
   "execution_count": 63,
   "metadata": {},
   "outputs": [],
   "source": [
    "#35. Create a program that generates Pascal's triangle up to a specified number of rows using list comprehension."
   ]
  },
  {
   "cell_type": "code",
   "execution_count": 64,
   "metadata": {},
   "outputs": [
    {
     "name": "stdout",
     "output_type": "stream",
     "text": [
      "Pascal's Triangle with 5 rows:\n",
      "[1]\n",
      "[1, 1]\n",
      "[1, 2, 1]\n",
      "[1, 3, 3, 1]\n",
      "[1, 4, 6, 4, 1]\n"
     ]
    }
   ],
   "source": [
    "def generate_pascals_triangle(num_rows):\n",
    "    # Initialize Pascal's Triangle with the first row\n",
    "    triangle = [[1] * (i + 1) for i in range(num_rows)]\n",
    "    \n",
    "    # Fill in the values for Pascal's Triangle\n",
    "    for i in range(2, num_rows):\n",
    "        for j in range(1, i):\n",
    "            triangle[i][j] = triangle[i - 1][j - 1] + triangle[i - 1][j]\n",
    "    \n",
    "    return triangle\n",
    "\n",
    "# Define the number of rows\n",
    "num_rows = 5\n",
    "\n",
    "# Generate Pascal's Triangle up to the specified number of rows\n",
    "pascals_triangle = generate_pascals_triangle(num_rows)\n",
    "\n",
    "# Print the result\n",
    "print(f\"Pascal's Triangle with {num_rows} rows:\")\n",
    "for row in pascals_triangle:\n",
    "    print(row)"
   ]
  },
  {
   "cell_type": "code",
   "execution_count": 65,
   "metadata": {},
   "outputs": [],
   "source": [
    "#36. Develop a program that calculates the sum of the digits of a factorial of numbers from 1 to 5 using list comprehension"
   ]
  },
  {
   "cell_type": "code",
   "execution_count": 66,
   "metadata": {},
   "outputs": [
    {
     "name": "stdout",
     "output_type": "stream",
     "text": [
      "Sum of the digits of factorials from 1 to 5: [1, 2, 6, 6, 3]\n"
     ]
    }
   ],
   "source": [
    "import math\n",
    "\n",
    "# Function to compute the sum of digits of a number\n",
    "def sum_of_digits(n):\n",
    "    return sum(int(digit) for digit in str(n))\n",
    "\n",
    "# Calculate the sum of the digits of the factorials of numbers from 1 to 5 using list comprehension\n",
    "sum_digits_factorials = [sum_of_digits(math.factorial(num)) for num in range(1, 6)]\n",
    "\n",
    "# Print the result\n",
    "print(\"Sum of the digits of factorials from 1 to 5:\", sum_digits_factorials)"
   ]
  },
  {
   "cell_type": "code",
   "execution_count": 67,
   "metadata": {},
   "outputs": [],
   "source": [
    "# 37. Write a program that finds the longest word in a sentence using list comprehension. "
   ]
  },
  {
   "cell_type": "code",
   "execution_count": 69,
   "metadata": {},
   "outputs": [
    {
     "name": "stdout",
     "output_type": "stream",
     "text": [
      "Sentence: Avinash is a Handsome person\n",
      "Longest word: Handsome\n"
     ]
    }
   ],
   "source": [
    "def find_longest_word(sentence):\n",
    "    # Split the sentence into words\n",
    "    words = sentence.split()\n",
    "    # Find the longest word using list comprehension\n",
    "    longest_word = max(words, key=len)\n",
    "    return longest_word\n",
    "\n",
    "# Define a sentence\n",
    "sentence = \"Avinash is a Handsome person\"\n",
    "\n",
    "# Find the longest word in the sentence\n",
    "longest_word = find_longest_word(sentence)\n",
    "\n",
    "# Print the result\n",
    "print(\"Sentence:\", sentence)\n",
    "print(\"Longest word:\", longest_word)"
   ]
  },
  {
   "cell_type": "code",
   "execution_count": 71,
   "metadata": {},
   "outputs": [],
   "source": [
    "#38. Create a program that filters a list of strings to include only those with more than three vowels using list comprehension"
   ]
  },
  {
   "cell_type": "code",
   "execution_count": 72,
   "metadata": {},
   "outputs": [
    {
     "name": "stdout",
     "output_type": "stream",
     "text": [
      "Original list of strings: ['Hello', 'World', 'Python', 'Programming', 'Examples', 'String', 'Filter', 'List', 'Comprehension', 'Vowels']\n",
      "Filtered list with more than three vowels: ['Comprehension']\n"
     ]
    }
   ],
   "source": [
    "def count_vowels(s):\n",
    "    # Define a set of vowels\n",
    "    vowels = 'aeiouAEIOU'\n",
    "    # Count the number of vowels in the string\n",
    "    return sum(1 for char in s if char in vowels)\n",
    "\n",
    "# Define a list of strings\n",
    "strings = [\n",
    "    \"Hello\",\n",
    "    \"World\",\n",
    "    \"Python\",\n",
    "    \"Programming\",\n",
    "    \"Examples\",\n",
    "    \"String\",\n",
    "    \"Filter\",\n",
    "    \"List\",\n",
    "    \"Comprehension\",\n",
    "    \"Vowels\"\n",
    "]\n",
    "\n",
    "# Filter the list to include only strings with more than three vowels using list comprehension\n",
    "filtered_strings = [s for s in strings if count_vowels(s) > 3]\n",
    "\n",
    "# Print the result\n",
    "print(\"Original list of strings:\", strings)\n",
    "print(\"Filtered list with more than three vowels:\", filtered_strings)"
   ]
  },
  {
   "cell_type": "code",
   "execution_count": 73,
   "metadata": {},
   "outputs": [],
   "source": [
    "#39. Develop a program that calculates the sum of the digits of numbers from 1 to 1000 using list comprehension."
   ]
  },
  {
   "cell_type": "code",
   "execution_count": 74,
   "metadata": {},
   "outputs": [
    {
     "name": "stdout",
     "output_type": "stream",
     "text": [
      "Sum of the digits of numbers from 1 to 1000: 13501\n"
     ]
    }
   ],
   "source": [
    "def sum_of_digits(n):\n",
    "    # Compute the sum of digits of the number n\n",
    "    return sum(int(digit) for digit in str(n))\n",
    "\n",
    "# Calculate the sum of the digits of numbers from 1 to 1000 using list comprehension\n",
    "total_sum_of_digits = sum(sum_of_digits(num) for num in range(1, 1001))\n",
    "\n",
    "# Print the result\n",
    "print(\"Sum of the digits of numbers from 1 to 1000:\", total_sum_of_digits)"
   ]
  },
  {
   "cell_type": "code",
   "execution_count": 75,
   "metadata": {},
   "outputs": [],
   "source": [
    "#40. Write a program that generates a list of prime palindromic numbers using list comprehension"
   ]
  },
  {
   "cell_type": "code",
   "execution_count": 76,
   "metadata": {},
   "outputs": [
    {
     "name": "stdout",
     "output_type": "stream",
     "text": [
      "Prime palindromic numbers up to 1000: [2, 3, 5, 7, 11, 101, 131, 151, 181, 191, 313, 353, 373, 383, 727, 757, 787, 797, 919, 929]\n"
     ]
    }
   ],
   "source": [
    "def is_palindrome(num):\n",
    "    # Convert number to string and check if it reads the same forward and backward\n",
    "    num_str = str(num)\n",
    "    return num_str == num_str[::-1]\n",
    "\n",
    "def is_prime(num):\n",
    "    # Return False for numbers less than 2\n",
    "    if num <= 1:\n",
    "        return False\n",
    "    # Check for factors from 2 to the square root of num\n",
    "    for i in range(2, int(num**0.5) + 1):\n",
    "        if num % i == 0:\n",
    "            return False\n",
    "    return True\n",
    "\n",
    "def generate_prime_palindromic_numbers(limit):\n",
    "    # List comprehension to find all prime palindromic numbers up to the limit\n",
    "    return [num for num in range(2, limit + 1) if is_palindrome(num) and is_prime(num)]\n",
    "\n",
    "# Define the limit up to which numbers should be checked\n",
    "limit = 1000\n",
    "\n",
    "# Generate the list of prime palindromic numbers\n",
    "prime_palindromic_numbers = generate_prime_palindromic_numbers(limit)\n",
    "\n",
    "# Print the result\n",
    "print(f\"Prime palindromic numbers up to {limit}:\", prime_palindromic_numbers)"
   ]
  }
 ],
 "metadata": {
  "kernelspec": {
   "display_name": "Python 3",
   "language": "python",
   "name": "python3"
  },
  "language_info": {
   "codemirror_mode": {
    "name": "ipython",
    "version": 3
   },
   "file_extension": ".py",
   "mimetype": "text/x-python",
   "name": "python",
   "nbconvert_exporter": "python",
   "pygments_lexer": "ipython3",
   "version": "3.12.2"
  }
 },
 "nbformat": 4,
 "nbformat_minor": 2
}
